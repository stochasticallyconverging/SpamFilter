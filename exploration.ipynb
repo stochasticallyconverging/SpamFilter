{
 "cells": [
  {
   "cell_type": "code",
   "execution_count": 1,
   "metadata": {
    "collapsed": true
   },
   "outputs": [],
   "source": [
    "import os\n",
    "\n",
    "import numpy as np\n",
    "from sklearn.model_selection import train_test_split, GridSearchCV\n",
    "from sklearn.feature_extraction.text import CountVectorizer\n",
    "from sklearn.naive_bayes import MultinomialNB\n",
    "\n",
    "from src.Engine import Engine\n",
    "\n",
    "ROOT = os.getcwd()\n",
    "DATAPATH = os.path.join(ROOT,\"data\")\n",
    "email_eng = Engine()\n",
    "df, vocab = email_eng.run(DATAPATH)\n",
    "\n",
    "cnt_vec = CountVectorizer()\n",
    "X = cnt_vec.fit_transform(df[\"message\"])\n",
    "y = df[\"spam\"]\n",
    "vocab = cnt_vec.vocabulary_\n",
    "rev = {j:i for i,j in vocab.items()}\n",
    "nb = MultinomialNB()\n",
    "param_grid = {\"alpha\": np.logspace(-2,1)}\n",
    "grid = GridSearchCV(nb, param_grid=param_grid, scoring = \"f1\", return_train_score=True, n_jobs=-2)\n",
    "\n",
    "\n",
    "X_train, X_test, y_train, y_test = train_test_split(X, y, test_size=0.2)\n"
   ]
  },
  {
   "cell_type": "code",
   "execution_count": 2,
   "metadata": {},
   "outputs": [
    {
     "data": {
      "text/html": [
       "<style>#sk-container-id-1 {color: black;background-color: white;}#sk-container-id-1 pre{padding: 0;}#sk-container-id-1 div.sk-toggleable {background-color: white;}#sk-container-id-1 label.sk-toggleable__label {cursor: pointer;display: block;width: 100%;margin-bottom: 0;padding: 0.3em;box-sizing: border-box;text-align: center;}#sk-container-id-1 label.sk-toggleable__label-arrow:before {content: \"▸\";float: left;margin-right: 0.25em;color: #696969;}#sk-container-id-1 label.sk-toggleable__label-arrow:hover:before {color: black;}#sk-container-id-1 div.sk-estimator:hover label.sk-toggleable__label-arrow:before {color: black;}#sk-container-id-1 div.sk-toggleable__content {max-height: 0;max-width: 0;overflow: hidden;text-align: left;background-color: #f0f8ff;}#sk-container-id-1 div.sk-toggleable__content pre {margin: 0.2em;color: black;border-radius: 0.25em;background-color: #f0f8ff;}#sk-container-id-1 input.sk-toggleable__control:checked~div.sk-toggleable__content {max-height: 200px;max-width: 100%;overflow: auto;}#sk-container-id-1 input.sk-toggleable__control:checked~label.sk-toggleable__label-arrow:before {content: \"▾\";}#sk-container-id-1 div.sk-estimator input.sk-toggleable__control:checked~label.sk-toggleable__label {background-color: #d4ebff;}#sk-container-id-1 div.sk-label input.sk-toggleable__control:checked~label.sk-toggleable__label {background-color: #d4ebff;}#sk-container-id-1 input.sk-hidden--visually {border: 0;clip: rect(1px 1px 1px 1px);clip: rect(1px, 1px, 1px, 1px);height: 1px;margin: -1px;overflow: hidden;padding: 0;position: absolute;width: 1px;}#sk-container-id-1 div.sk-estimator {font-family: monospace;background-color: #f0f8ff;border: 1px dotted black;border-radius: 0.25em;box-sizing: border-box;margin-bottom: 0.5em;}#sk-container-id-1 div.sk-estimator:hover {background-color: #d4ebff;}#sk-container-id-1 div.sk-parallel-item::after {content: \"\";width: 100%;border-bottom: 1px solid gray;flex-grow: 1;}#sk-container-id-1 div.sk-label:hover label.sk-toggleable__label {background-color: #d4ebff;}#sk-container-id-1 div.sk-serial::before {content: \"\";position: absolute;border-left: 1px solid gray;box-sizing: border-box;top: 0;bottom: 0;left: 50%;z-index: 0;}#sk-container-id-1 div.sk-serial {display: flex;flex-direction: column;align-items: center;background-color: white;padding-right: 0.2em;padding-left: 0.2em;position: relative;}#sk-container-id-1 div.sk-item {position: relative;z-index: 1;}#sk-container-id-1 div.sk-parallel {display: flex;align-items: stretch;justify-content: center;background-color: white;position: relative;}#sk-container-id-1 div.sk-item::before, #sk-container-id-1 div.sk-parallel-item::before {content: \"\";position: absolute;border-left: 1px solid gray;box-sizing: border-box;top: 0;bottom: 0;left: 50%;z-index: -1;}#sk-container-id-1 div.sk-parallel-item {display: flex;flex-direction: column;z-index: 1;position: relative;background-color: white;}#sk-container-id-1 div.sk-parallel-item:first-child::after {align-self: flex-end;width: 50%;}#sk-container-id-1 div.sk-parallel-item:last-child::after {align-self: flex-start;width: 50%;}#sk-container-id-1 div.sk-parallel-item:only-child::after {width: 0;}#sk-container-id-1 div.sk-dashed-wrapped {border: 1px dashed gray;margin: 0 0.4em 0.5em 0.4em;box-sizing: border-box;padding-bottom: 0.4em;background-color: white;}#sk-container-id-1 div.sk-label label {font-family: monospace;font-weight: bold;display: inline-block;line-height: 1.2em;}#sk-container-id-1 div.sk-label-container {text-align: center;}#sk-container-id-1 div.sk-container {/* jupyter's `normalize.less` sets `[hidden] { display: none; }` but bootstrap.min.css set `[hidden] { display: none !important; }` so we also need the `!important` here to be able to override the default hidden behavior on the sphinx rendered scikit-learn.org. See: https://github.com/scikit-learn/scikit-learn/issues/21755 */display: inline-block !important;position: relative;}#sk-container-id-1 div.sk-text-repr-fallback {display: none;}</style><div id=\"sk-container-id-1\" class=\"sk-top-container\"><div class=\"sk-text-repr-fallback\"><pre>GridSearchCV(estimator=MultinomialNB(),\n",
       "             param_grid={&#x27;alpha&#x27;: array([ 0.01      ,  0.01151395,  0.01325711,  0.01526418,  0.01757511,\n",
       "        0.0202359 ,  0.02329952,  0.02682696,  0.03088844,  0.0355648 ,\n",
       "        0.04094915,  0.04714866,  0.05428675,  0.06250552,  0.07196857,\n",
       "        0.08286428,  0.09540955,  0.10985411,  0.12648552,  0.14563485,\n",
       "        0.16768329,  0.19306977,  0.22229965,  0.25595479,  0.29470517,\n",
       "        0.33932218,  0.39069399,  0.44984327,  0.51794747,  0.59636233,\n",
       "        0.68664885,  0.79060432,  0.91029818,  1.04811313,  1.20679264,\n",
       "        1.38949549,  1.59985872,  1.84206997,  2.12095089,  2.44205309,\n",
       "        2.8117687 ,  3.23745754,  3.72759372,  4.29193426,  4.94171336,\n",
       "        5.68986603,  6.55128557,  7.54312006,  8.68511374, 10.        ])},\n",
       "             return_train_score=True, scoring=&#x27;f1&#x27;)</pre><b>In a Jupyter environment, please rerun this cell to show the HTML representation or trust the notebook. <br />On GitHub, the HTML representation is unable to render, please try loading this page with nbviewer.org.</b></div><div class=\"sk-container\" hidden><div class=\"sk-item sk-dashed-wrapped\"><div class=\"sk-label-container\"><div class=\"sk-label sk-toggleable\"><input class=\"sk-toggleable__control sk-hidden--visually\" id=\"sk-estimator-id-1\" type=\"checkbox\" ><label for=\"sk-estimator-id-1\" class=\"sk-toggleable__label sk-toggleable__label-arrow\">GridSearchCV</label><div class=\"sk-toggleable__content\"><pre>GridSearchCV(estimator=MultinomialNB(),\n",
       "             param_grid={&#x27;alpha&#x27;: array([ 0.01      ,  0.01151395,  0.01325711,  0.01526418,  0.01757511,\n",
       "        0.0202359 ,  0.02329952,  0.02682696,  0.03088844,  0.0355648 ,\n",
       "        0.04094915,  0.04714866,  0.05428675,  0.06250552,  0.07196857,\n",
       "        0.08286428,  0.09540955,  0.10985411,  0.12648552,  0.14563485,\n",
       "        0.16768329,  0.19306977,  0.22229965,  0.25595479,  0.29470517,\n",
       "        0.33932218,  0.39069399,  0.44984327,  0.51794747,  0.59636233,\n",
       "        0.68664885,  0.79060432,  0.91029818,  1.04811313,  1.20679264,\n",
       "        1.38949549,  1.59985872,  1.84206997,  2.12095089,  2.44205309,\n",
       "        2.8117687 ,  3.23745754,  3.72759372,  4.29193426,  4.94171336,\n",
       "        5.68986603,  6.55128557,  7.54312006,  8.68511374, 10.        ])},\n",
       "             return_train_score=True, scoring=&#x27;f1&#x27;)</pre></div></div></div><div class=\"sk-parallel\"><div class=\"sk-parallel-item\"><div class=\"sk-item\"><div class=\"sk-label-container\"><div class=\"sk-label sk-toggleable\"><input class=\"sk-toggleable__control sk-hidden--visually\" id=\"sk-estimator-id-2\" type=\"checkbox\" ><label for=\"sk-estimator-id-2\" class=\"sk-toggleable__label sk-toggleable__label-arrow\">estimator: MultinomialNB</label><div class=\"sk-toggleable__content\"><pre>MultinomialNB()</pre></div></div></div><div class=\"sk-serial\"><div class=\"sk-item\"><div class=\"sk-estimator sk-toggleable\"><input class=\"sk-toggleable__control sk-hidden--visually\" id=\"sk-estimator-id-3\" type=\"checkbox\" ><label for=\"sk-estimator-id-3\" class=\"sk-toggleable__label sk-toggleable__label-arrow\">MultinomialNB</label><div class=\"sk-toggleable__content\"><pre>MultinomialNB()</pre></div></div></div></div></div></div></div></div></div></div>"
      ],
      "text/plain": [
       "GridSearchCV(estimator=MultinomialNB(),\n",
       "             param_grid={'alpha': array([ 0.01      ,  0.01151395,  0.01325711,  0.01526418,  0.01757511,\n",
       "        0.0202359 ,  0.02329952,  0.02682696,  0.03088844,  0.0355648 ,\n",
       "        0.04094915,  0.04714866,  0.05428675,  0.06250552,  0.07196857,\n",
       "        0.08286428,  0.09540955,  0.10985411,  0.12648552,  0.14563485,\n",
       "        0.16768329,  0.19306977,  0.22229965,  0.25595479,  0.29470517,\n",
       "        0.33932218,  0.39069399,  0.44984327,  0.51794747,  0.59636233,\n",
       "        0.68664885,  0.79060432,  0.91029818,  1.04811313,  1.20679264,\n",
       "        1.38949549,  1.59985872,  1.84206997,  2.12095089,  2.44205309,\n",
       "        2.8117687 ,  3.23745754,  3.72759372,  4.29193426,  4.94171336,\n",
       "        5.68986603,  6.55128557,  7.54312006,  8.68511374, 10.        ])},\n",
       "             return_train_score=True, scoring='f1')"
      ]
     },
     "execution_count": 2,
     "metadata": {},
     "output_type": "execute_result"
    }
   ],
   "source": [
    "#grid.fit(X_train.toarray(), y_train)"
   ]
  },
  {
   "cell_type": "code",
   "execution_count": 4,
   "metadata": {},
   "outputs": [
    {
     "data": {
      "text/html": [
       "<style>#sk-container-id-2 {color: black;background-color: white;}#sk-container-id-2 pre{padding: 0;}#sk-container-id-2 div.sk-toggleable {background-color: white;}#sk-container-id-2 label.sk-toggleable__label {cursor: pointer;display: block;width: 100%;margin-bottom: 0;padding: 0.3em;box-sizing: border-box;text-align: center;}#sk-container-id-2 label.sk-toggleable__label-arrow:before {content: \"▸\";float: left;margin-right: 0.25em;color: #696969;}#sk-container-id-2 label.sk-toggleable__label-arrow:hover:before {color: black;}#sk-container-id-2 div.sk-estimator:hover label.sk-toggleable__label-arrow:before {color: black;}#sk-container-id-2 div.sk-toggleable__content {max-height: 0;max-width: 0;overflow: hidden;text-align: left;background-color: #f0f8ff;}#sk-container-id-2 div.sk-toggleable__content pre {margin: 0.2em;color: black;border-radius: 0.25em;background-color: #f0f8ff;}#sk-container-id-2 input.sk-toggleable__control:checked~div.sk-toggleable__content {max-height: 200px;max-width: 100%;overflow: auto;}#sk-container-id-2 input.sk-toggleable__control:checked~label.sk-toggleable__label-arrow:before {content: \"▾\";}#sk-container-id-2 div.sk-estimator input.sk-toggleable__control:checked~label.sk-toggleable__label {background-color: #d4ebff;}#sk-container-id-2 div.sk-label input.sk-toggleable__control:checked~label.sk-toggleable__label {background-color: #d4ebff;}#sk-container-id-2 input.sk-hidden--visually {border: 0;clip: rect(1px 1px 1px 1px);clip: rect(1px, 1px, 1px, 1px);height: 1px;margin: -1px;overflow: hidden;padding: 0;position: absolute;width: 1px;}#sk-container-id-2 div.sk-estimator {font-family: monospace;background-color: #f0f8ff;border: 1px dotted black;border-radius: 0.25em;box-sizing: border-box;margin-bottom: 0.5em;}#sk-container-id-2 div.sk-estimator:hover {background-color: #d4ebff;}#sk-container-id-2 div.sk-parallel-item::after {content: \"\";width: 100%;border-bottom: 1px solid gray;flex-grow: 1;}#sk-container-id-2 div.sk-label:hover label.sk-toggleable__label {background-color: #d4ebff;}#sk-container-id-2 div.sk-serial::before {content: \"\";position: absolute;border-left: 1px solid gray;box-sizing: border-box;top: 0;bottom: 0;left: 50%;z-index: 0;}#sk-container-id-2 div.sk-serial {display: flex;flex-direction: column;align-items: center;background-color: white;padding-right: 0.2em;padding-left: 0.2em;position: relative;}#sk-container-id-2 div.sk-item {position: relative;z-index: 1;}#sk-container-id-2 div.sk-parallel {display: flex;align-items: stretch;justify-content: center;background-color: white;position: relative;}#sk-container-id-2 div.sk-item::before, #sk-container-id-2 div.sk-parallel-item::before {content: \"\";position: absolute;border-left: 1px solid gray;box-sizing: border-box;top: 0;bottom: 0;left: 50%;z-index: -1;}#sk-container-id-2 div.sk-parallel-item {display: flex;flex-direction: column;z-index: 1;position: relative;background-color: white;}#sk-container-id-2 div.sk-parallel-item:first-child::after {align-self: flex-end;width: 50%;}#sk-container-id-2 div.sk-parallel-item:last-child::after {align-self: flex-start;width: 50%;}#sk-container-id-2 div.sk-parallel-item:only-child::after {width: 0;}#sk-container-id-2 div.sk-dashed-wrapped {border: 1px dashed gray;margin: 0 0.4em 0.5em 0.4em;box-sizing: border-box;padding-bottom: 0.4em;background-color: white;}#sk-container-id-2 div.sk-label label {font-family: monospace;font-weight: bold;display: inline-block;line-height: 1.2em;}#sk-container-id-2 div.sk-label-container {text-align: center;}#sk-container-id-2 div.sk-container {/* jupyter's `normalize.less` sets `[hidden] { display: none; }` but bootstrap.min.css set `[hidden] { display: none !important; }` so we also need the `!important` here to be able to override the default hidden behavior on the sphinx rendered scikit-learn.org. See: https://github.com/scikit-learn/scikit-learn/issues/21755 */display: inline-block !important;position: relative;}#sk-container-id-2 div.sk-text-repr-fallback {display: none;}</style><div id=\"sk-container-id-2\" class=\"sk-top-container\"><div class=\"sk-text-repr-fallback\"><pre>GridSearchCV(estimator=MultinomialNB(),\n",
       "             param_grid={&#x27;alpha&#x27;: array([ 0.01      ,  0.01151395,  0.01325711,  0.01526418,  0.01757511,\n",
       "        0.0202359 ,  0.02329952,  0.02682696,  0.03088844,  0.0355648 ,\n",
       "        0.04094915,  0.04714866,  0.05428675,  0.06250552,  0.07196857,\n",
       "        0.08286428,  0.09540955,  0.10985411,  0.12648552,  0.14563485,\n",
       "        0.16768329,  0.19306977,  0.22229965,  0.25595479,  0.29470517,\n",
       "        0.33932218,  0.39069399,  0.44984327,  0.51794747,  0.59636233,\n",
       "        0.68664885,  0.79060432,  0.91029818,  1.04811313,  1.20679264,\n",
       "        1.38949549,  1.59985872,  1.84206997,  2.12095089,  2.44205309,\n",
       "        2.8117687 ,  3.23745754,  3.72759372,  4.29193426,  4.94171336,\n",
       "        5.68986603,  6.55128557,  7.54312006,  8.68511374, 10.        ])},\n",
       "             return_train_score=True, scoring=&#x27;f1&#x27;)</pre><b>In a Jupyter environment, please rerun this cell to show the HTML representation or trust the notebook. <br />On GitHub, the HTML representation is unable to render, please try loading this page with nbviewer.org.</b></div><div class=\"sk-container\" hidden><div class=\"sk-item sk-dashed-wrapped\"><div class=\"sk-label-container\"><div class=\"sk-label sk-toggleable\"><input class=\"sk-toggleable__control sk-hidden--visually\" id=\"sk-estimator-id-4\" type=\"checkbox\" ><label for=\"sk-estimator-id-4\" class=\"sk-toggleable__label sk-toggleable__label-arrow\">GridSearchCV</label><div class=\"sk-toggleable__content\"><pre>GridSearchCV(estimator=MultinomialNB(),\n",
       "             param_grid={&#x27;alpha&#x27;: array([ 0.01      ,  0.01151395,  0.01325711,  0.01526418,  0.01757511,\n",
       "        0.0202359 ,  0.02329952,  0.02682696,  0.03088844,  0.0355648 ,\n",
       "        0.04094915,  0.04714866,  0.05428675,  0.06250552,  0.07196857,\n",
       "        0.08286428,  0.09540955,  0.10985411,  0.12648552,  0.14563485,\n",
       "        0.16768329,  0.19306977,  0.22229965,  0.25595479,  0.29470517,\n",
       "        0.33932218,  0.39069399,  0.44984327,  0.51794747,  0.59636233,\n",
       "        0.68664885,  0.79060432,  0.91029818,  1.04811313,  1.20679264,\n",
       "        1.38949549,  1.59985872,  1.84206997,  2.12095089,  2.44205309,\n",
       "        2.8117687 ,  3.23745754,  3.72759372,  4.29193426,  4.94171336,\n",
       "        5.68986603,  6.55128557,  7.54312006,  8.68511374, 10.        ])},\n",
       "             return_train_score=True, scoring=&#x27;f1&#x27;)</pre></div></div></div><div class=\"sk-parallel\"><div class=\"sk-parallel-item\"><div class=\"sk-item\"><div class=\"sk-label-container\"><div class=\"sk-label sk-toggleable\"><input class=\"sk-toggleable__control sk-hidden--visually\" id=\"sk-estimator-id-5\" type=\"checkbox\" ><label for=\"sk-estimator-id-5\" class=\"sk-toggleable__label sk-toggleable__label-arrow\">estimator: MultinomialNB</label><div class=\"sk-toggleable__content\"><pre>MultinomialNB()</pre></div></div></div><div class=\"sk-serial\"><div class=\"sk-item\"><div class=\"sk-estimator sk-toggleable\"><input class=\"sk-toggleable__control sk-hidden--visually\" id=\"sk-estimator-id-6\" type=\"checkbox\" ><label for=\"sk-estimator-id-6\" class=\"sk-toggleable__label sk-toggleable__label-arrow\">MultinomialNB</label><div class=\"sk-toggleable__content\"><pre>MultinomialNB()</pre></div></div></div></div></div></div></div></div></div></div>"
      ],
      "text/plain": [
       "GridSearchCV(estimator=MultinomialNB(),\n",
       "             param_grid={'alpha': array([ 0.01      ,  0.01151395,  0.01325711,  0.01526418,  0.01757511,\n",
       "        0.0202359 ,  0.02329952,  0.02682696,  0.03088844,  0.0355648 ,\n",
       "        0.04094915,  0.04714866,  0.05428675,  0.06250552,  0.07196857,\n",
       "        0.08286428,  0.09540955,  0.10985411,  0.12648552,  0.14563485,\n",
       "        0.16768329,  0.19306977,  0.22229965,  0.25595479,  0.29470517,\n",
       "        0.33932218,  0.39069399,  0.44984327,  0.51794747,  0.59636233,\n",
       "        0.68664885,  0.79060432,  0.91029818,  1.04811313,  1.20679264,\n",
       "        1.38949549,  1.59985872,  1.84206997,  2.12095089,  2.44205309,\n",
       "        2.8117687 ,  3.23745754,  3.72759372,  4.29193426,  4.94171336,\n",
       "        5.68986603,  6.55128557,  7.54312006,  8.68511374, 10.        ])},\n",
       "             return_train_score=True, scoring='f1')"
      ]
     },
     "execution_count": 4,
     "metadata": {},
     "output_type": "execute_result"
    }
   ],
   "source": [
    "sparse_grid = GridSearchCV(nb, param_grid=param_grid, scoring = \"f1\", return_train_score=True)\n",
    "sparse_grid.fit(X_train, y_train)"
   ]
  },
  {
   "cell_type": "code",
   "execution_count": 5,
   "metadata": {},
   "outputs": [],
   "source": [
    "#dense_pred = grid.predict(X_test.toarray())\n",
    "sparse_pred = sparse_grid.predict(X_test)"
   ]
  },
  {
   "cell_type": "code",
   "execution_count": 6,
   "metadata": {},
   "outputs": [
    {
     "name": "stdout",
     "output_type": "stream",
     "text": [
      "              precision    recall  f1-score   support\n",
      "\n",
      "       False       0.99      1.00      0.99      1301\n",
      "        True       1.00      0.96      0.98       421\n",
      "\n",
      "    accuracy                           0.99      1722\n",
      "   macro avg       0.99      0.98      0.99      1722\n",
      "weighted avg       0.99      0.99      0.99      1722\n",
      "\n"
     ]
    }
   ],
   "source": [
    "from sklearn.metrics import classification_report\n",
    "#print(classification_report(y_test, dense_pred))"
   ]
  },
  {
   "cell_type": "code",
   "execution_count": 7,
   "metadata": {},
   "outputs": [
    {
     "name": "stdout",
     "output_type": "stream",
     "text": [
      "              precision    recall  f1-score   support\n",
      "\n",
      "       False       0.99      1.00      0.99      1301\n",
      "        True       1.00      0.96      0.98       421\n",
      "\n",
      "    accuracy                           0.99      1722\n",
      "   macro avg       0.99      0.98      0.99      1722\n",
      "weighted avg       0.99      0.99      0.99      1722\n",
      "\n"
     ]
    }
   ],
   "source": [
    "print(classification_report(y_test, sparse_pred))"
   ]
  },
  {
   "cell_type": "code",
   "execution_count": 10,
   "metadata": {},
   "outputs": [
    {
     "data": {
      "text/plain": [
       "['sparse_multinomialNB_model.joblib']"
      ]
     },
     "execution_count": 10,
     "metadata": {},
     "output_type": "execute_result"
    }
   ],
   "source": [
    "#import joblib\n",
    "#joblib.dump(grid,\"dense_multinomialNB_model.joblib\")\n",
    "#joblib.dump(sparse_grid, \"sparse_multinomialNB_model.joblib\")"
   ]
  },
  {
   "cell_type": "code",
   "execution_count": 26,
   "metadata": {},
   "outputs": [
    {
     "name": "stdout",
     "output_type": "stream",
     "text": [
      "[0.97663106 0.97663106 0.97728765 0.97761917 0.97794641 0.97794641\n",
      " 0.97794641 0.97827685 0.97762977 0.97765085 0.97831276 0.97831276\n",
      " 0.97831276 0.97864321 0.97864321 0.97897256 0.97863563 0.97830519\n",
      " 0.97830519 0.97830519 0.97797368 0.97797368 0.9773139  0.97698617\n",
      " 0.9773242  0.97666444 0.97599927 0.9756527  0.9756527  0.97497879\n",
      " 0.97396903 0.9736436  0.97161203 0.97062167 0.97025922 0.96884466\n",
      " 0.96717358 0.96381054 0.95620921 0.94752494 0.94081585 0.93072989\n",
      " 0.91701432 0.8991476  0.87726466 0.84612815 0.80463558 0.75721275\n",
      " 0.70748101 0.64953041]\n"
     ]
    }
   ],
   "source": [
    "print(sparse_grid.cv_results_[\"mean_test_score\"])\n"
   ]
  },
  {
   "cell_type": "code",
   "execution_count": 27,
   "metadata": {},
   "outputs": [
    {
     "name": "stdout",
     "output_type": "stream",
     "text": [
      "[0.99840701 0.99840701 0.99840701 0.99840701 0.99840701 0.99824752\n",
      " 0.99824752 0.99824752 0.99824752 0.99824752 0.99824752 0.99800813\n",
      " 0.99800813 0.99784845 0.99768864 0.99752883 0.99720903 0.99704909\n",
      " 0.99672903 0.99648875 0.99624827 0.99584868 0.99536741 0.99496598\n",
      " 0.99472511 0.99424243 0.99367868 0.99311641 0.99247199 0.99126252\n",
      " 0.99053908 0.98997113 0.98916238 0.9882732  0.98681205 0.98485292\n",
      " 0.98297007 0.9792689  0.97428563 0.9692503  0.96185763 0.95262053\n",
      " 0.94037001 0.92591132 0.90449552 0.88007968 0.84387874 0.7898306\n",
      " 0.73840565 0.68416461]\n"
     ]
    }
   ],
   "source": [
    "print(sparse_grid.cv_results_[\"mean_train_score\"])"
   ]
  }
 ],
 "metadata": {
  "kernelspec": {
   "display_name": "Python 3.10.4 ('qtw')",
   "language": "python",
   "name": "python3"
  },
  "language_info": {
   "codemirror_mode": {
    "name": "ipython",
    "version": 3
   },
   "file_extension": ".py",
   "mimetype": "text/x-python",
   "name": "python",
   "nbconvert_exporter": "python",
   "pygments_lexer": "ipython3",
   "version": "3.10.4"
  },
  "vscode": {
   "interpreter": {
    "hash": "39d5a1c27b7676db946117a6da92842b502d6ed26472be94e554ad8ff553ad9c"
   }
  }
 },
 "nbformat": 4,
 "nbformat_minor": 0
}
