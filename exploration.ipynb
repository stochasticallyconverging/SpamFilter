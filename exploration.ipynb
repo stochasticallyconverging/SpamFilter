{
 "cells": [
  {
   "cell_type": "code",
   "execution_count": 1,
   "metadata": {
    "collapsed": true
   },
   "outputs": [],
   "source": [
    "import os\n",
    "import re\n",
    "import glob\n",
    "import email\n",
    "from html.parser import HTMLParser\n",
    "\n",
    "import numpy as np"
   ]
  },
  {
   "cell_type": "code",
   "execution_count": 23,
   "metadata": {
    "collapsed": false
   },
   "outputs": [],
   "source": [
    "ROOT = os.getcwd()\n",
    "DATAPATH = os.path.join(ROOT,\"data\")\n",
    "\n",
    "search_strings = [\"easy\", \"hard\", \"spam\"]\n",
    "message_types = ['multipart/alternative',\n",
    " 'multipart/mixed',\n",
    " 'multipart/related',\n",
    " 'multipart/report',\n",
    " 'multipart/signed',\n",
    " 'text/html',\n",
    " 'text/plain',\n",
    " 'text/plain charset=us-ascii']\n",
    "\n",
    "filepaths = dict.fromkeys(search_strings, None)\n",
    "for key in filepaths.keys():\n",
    "    filepaths[key] = glob.glob(os.path.join(DATAPATH, key+\"*/*\"), recursive=True)\n",
    "\n",
    "emails = dict.fromkeys(search_strings, list())\n",
    "\n",
    "content_types = set()\n",
    "for dirclass, filepaths in filepaths.items():\n",
    "    for file in filepaths:\n",
    "        with open(file, \"r\", encoding=\"latin1\") as f:\n",
    "            x = email.message_from_file(f)\n",
    "            content_type = x.get_content_type()\n",
    "            content_types.add(content_type)\n",
    "            emails[dirclass].append(x.get_payload())\n",
    "\n"
   ]
  },
  {
   "cell_type": "code",
   "execution_count": 19,
   "metadata": {
    "collapsed": false
   },
   "outputs": [
    {
     "data": {
      "text/plain": [
       "{'multipart/alternative',\n",
       " 'multipart/mixed',\n",
       " 'multipart/related',\n",
       " 'multipart/report',\n",
       " 'multipart/signed',\n",
       " 'text/html',\n",
       " 'text/plain'}"
      ]
     },
     "execution_count": 19,
     "metadata": {},
     "output_type": "execute_result"
    }
   ],
   "source": [
    "content_types"
   ]
  },
  {
   "cell_type": "code",
   "execution_count": 30,
   "metadata": {
    "collapsed": false
   },
   "outputs": [
    {
     "name": "stdout",
     "output_type": "stream",
     "text": [
      "http://spineless.org/~mod/pix/octoberMoon.jpg\n",
      "-- \n",
      "#ken\tP-)}\n",
      "\n",
      "Ken Coar, Sanagendamgagwedweinini  http://Golux.Com/coar/\n",
      "Author, developer, opinionist      http://Apache-Server.Com/\n",
      "\n",
      "\"Millennium hand and shrimp!\"\n",
      "\n",
      "\n",
      "\n"
     ]
    }
   ],
   "source": [
    "print(emails[\"easy\"][1])"
   ]
  },
  {
   "cell_type": "code",
   "execution_count": 12,
   "metadata": {
    "collapsed": false
   },
   "outputs": [
    {
     "data": {
      "text/plain": [
       "<list_iterator at 0x7f30d51de230>"
      ]
     },
     "execution_count": 12,
     "metadata": {},
     "output_type": "execute_result"
    }
   ],
   "source": []
  },
  {
   "cell_type": "code",
   "execution_count": null,
   "metadata": {},
   "outputs": [],
   "source": []
  }
 ],
 "metadata": {
  "kernelspec": {
   "display_name": "Python 3.10.7 ('venv': venv)",
   "language": "python",
   "name": "python3"
  },
  "language_info": {
   "codemirror_mode": {
    "name": "ipython",
    "version": 3
   },
   "file_extension": ".py",
   "mimetype": "text/x-python",
   "name": "python",
   "nbconvert_exporter": "python",
   "pygments_lexer": "ipython3",
   "version": "3.10.7"
  },
  "vscode": {
   "interpreter": {
    "hash": "1febd020a3c85018e2e20af4960290ae79b277f561360bc747b6e4774396bec4"
   }
  }
 },
 "nbformat": 4,
 "nbformat_minor": 0
}
