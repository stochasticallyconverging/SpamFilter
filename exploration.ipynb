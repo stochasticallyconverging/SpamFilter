{
 "cells": [
  {
   "cell_type": "code",
   "execution_count": 22,
   "metadata": {
    "collapsed": true
   },
   "outputs": [
    {
     "ename": "ModuleNotFoundError",
     "evalue": "No module named 'numpy'",
     "output_type": "error",
     "traceback": [
      "\u001B[0;31m---------------------------------------------------------------------------\u001B[0m",
      "\u001B[0;31mModuleNotFoundError\u001B[0m                       Traceback (most recent call last)",
      "Cell \u001B[0;32mIn [22], line 7\u001B[0m\n\u001B[1;32m      4\u001B[0m \u001B[38;5;28;01mimport\u001B[39;00m \u001B[38;5;21;01memail\u001B[39;00m\n\u001B[1;32m      5\u001B[0m \u001B[38;5;28;01mfrom\u001B[39;00m \u001B[38;5;21;01mhtml\u001B[39;00m\u001B[38;5;21;01m.\u001B[39;00m\u001B[38;5;21;01mparser\u001B[39;00m \u001B[38;5;28;01mimport\u001B[39;00m HTMLParser\n\u001B[0;32m----> 7\u001B[0m \u001B[38;5;28;01mimport\u001B[39;00m \u001B[38;5;21;01mnumpy\u001B[39;00m \u001B[38;5;28;01mas\u001B[39;00m \u001B[38;5;21;01mnp\u001B[39;00m\n",
      "\u001B[0;31mModuleNotFoundError\u001B[0m: No module named 'numpy'"
     ]
    }
   ],
   "source": [
    "import os\n",
    "import re\n",
    "import glob\n",
    "import email\n",
    "from html.parser import HTMLParser\n",
    "\n",
    "import numpy as np"
   ]
  },
  {
   "cell_type": "code",
   "execution_count": null,
   "outputs": [
    {
     "ename": "NameError",
     "evalue": "name 'os' is not defined",
     "output_type": "error",
     "traceback": [
      "\u001B[0;31m---------------------------------------------------------------------------\u001B[0m",
      "\u001B[0;31mNameError\u001B[0m                                 Traceback (most recent call last)",
      "Cell \u001B[0;32mIn [1], line 1\u001B[0m\n\u001B[0;32m----> 1\u001B[0m ROOT \u001B[38;5;241m=\u001B[39m \u001B[43mos\u001B[49m\u001B[38;5;241m.\u001B[39mgetcwd()\n\u001B[1;32m      2\u001B[0m DATAPATH \u001B[38;5;241m=\u001B[39m os\u001B[38;5;241m.\u001B[39mpath\u001B[38;5;241m.\u001B[39mjoin(ROOT,\u001B[38;5;124m\"\u001B[39m\u001B[38;5;124mdata\u001B[39m\u001B[38;5;124m\"\u001B[39m)\n\u001B[1;32m      4\u001B[0m search_strings \u001B[38;5;241m=\u001B[39m [\u001B[38;5;124m\"\u001B[39m\u001B[38;5;124measy\u001B[39m\u001B[38;5;124m\"\u001B[39m, \u001B[38;5;124m\"\u001B[39m\u001B[38;5;124mhard\u001B[39m\u001B[38;5;124m\"\u001B[39m, \u001B[38;5;124m\"\u001B[39m\u001B[38;5;124mspam\u001B[39m\u001B[38;5;124m\"\u001B[39m]\n",
      "\u001B[0;31mNameError\u001B[0m: name 'os' is not defined"
     ]
    }
   ],
   "source": [
    "ROOT = os.getcwd()\n",
    "DATAPATH = os.path.join(ROOT,\"data\")\n",
    "\n",
    "search_strings = [\"easy\", \"hard\", \"spam\"]\n",
    "filepaths = dict.fromkeys(search_strings, None)\n",
    "for key in filepaths.keys():\n",
    "    filepaths[key] = glob.glob(os.path.join(DATAPATH, key+\"*/*\"), recursive=True)\n",
    "\n",
    "emails = dict.fromkeys(search_strings, list())\n",
    "content_types = set()\n",
    "for fileclass, filepaths in filepaths.items():\n",
    "    for file in filepaths:\n",
    "        with open(file, \"r\", encoding=\"cp437\") as f:\n",
    "            x = email.message_from_file(f)\n",
    "            content_type = x.get_content_type()\n",
    "            content_types.add(content_type)\n",
    "            if \"text\" in content_type:\n",
    "                if content_type == \"text/plain\":\n",
    "                    emails[fileclass].append(x.get_payload())\n",
    "                elif \"html\" in content_type:\n",
    "                    pass\n",
    "                elif \"charset=us-ascii\" in content_type:\n",
    "                    pass\n",
    "                else:\n",
    "                    raise ValueError\n",
    "            elif \"multipart\" in content_type:\n",
    "                if \"alternative\" in content_type:\n",
    "                    pass\n",
    "                elif \"mixed\" in content_type:\n",
    "                    pass\n",
    "                elif \"related\" in content_type:\n",
    "                    pass\n",
    "                elif \"report\" in content_type:\n",
    "                    pass\n",
    "                elif \"signed\" in content_type:\n",
    "                    pass\n",
    "                else:\n",
    "                    raise ValueError\n",
    "            else:\n",
    "                raise ValueError\n",
    "\n",
    "\n"
   ],
   "metadata": {
    "collapsed": false
   }
  },
  {
   "cell_type": "code",
   "execution_count": 24,
   "outputs": [
    {
     "data": {
      "text/plain": "{'multipart/alternative',\n 'multipart/mixed',\n 'multipart/related',\n 'multipart/report',\n 'multipart/signed',\n 'text/html',\n 'text/plain',\n 'text/plain charset=us-ascii'}"
     },
     "execution_count": 24,
     "metadata": {},
     "output_type": "execute_result"
    }
   ],
   "source": [
    "content_types"
   ],
   "metadata": {
    "collapsed": false
   }
  },
  {
   "cell_type": "code",
   "execution_count": 11,
   "outputs": [
    {
     "data": {
      "text/plain": "'om '"
     },
     "execution_count": 11,
     "metadata": {},
     "output_type": "execute_result"
    }
   ],
   "source": [
    "emails[\"easy\"][2:5]"
   ],
   "metadata": {
    "collapsed": false
   }
  },
  {
   "cell_type": "code",
   "execution_count": null,
   "outputs": [],
   "source": [],
   "metadata": {
    "collapsed": false
   }
  }
 ],
 "metadata": {
  "kernelspec": {
   "display_name": "Python 3",
   "language": "python",
   "name": "python3"
  },
  "language_info": {
   "codemirror_mode": {
    "name": "ipython",
    "version": 2
   },
   "file_extension": ".py",
   "mimetype": "text/x-python",
   "name": "python",
   "nbconvert_exporter": "python",
   "pygments_lexer": "ipython2",
   "version": "2.7.6"
  }
 },
 "nbformat": 4,
 "nbformat_minor": 0
}
